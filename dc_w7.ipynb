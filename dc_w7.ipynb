{
  "nbformat": 4,
  "nbformat_minor": 0,
  "metadata": {
    "colab": {
      "name": "dc_w7.ipynb",
      "provenance": [],
      "collapsed_sections": []
    },
    "kernelspec": {
      "name": "python3",
      "display_name": "Python 3"
    }
  },
  "cells": [
    {
      "cell_type": "code",
      "metadata": {
        "id": "kV5ngkPaNdve",
        "colab_type": "code",
        "outputId": "22f05a97-8776-4210-f594-3d5055d09ec7",
        "colab": {
          "base_uri": "https://localhost:8080/",
          "height": 224
        }
      },
      "source": [
        "!apt-get install -y -qq software-properties-common python-software-properties module-init-tools\n",
        "!add-apt-repository -y ppa:alessandro-strada/ppa 2>&1 > /dev/null\n",
        "!apt-get update -qq 2>&1 > /dev/null\n",
        "!apt-get -y install -qq google-drive-ocamlfuse fuse\n",
        "from google.colab import auth\n",
        "auth.authenticate_user()\n",
        "from oauth2client.client import GoogleCredentials\n",
        "creds = GoogleCredentials.get_application_default()\n",
        "import getpass\n",
        "!google-drive-ocamlfuse -headless -id={creds.client_id} -secret={creds.client_secret} < /dev/null 2>&1 | grep URL\n",
        "vcode = getpass.getpass()\n",
        "!echo {vcode} | google-drive-ocamlfuse -headless -id={creds.client_id} -secret={creds.client_secret}"
      ],
      "execution_count": 1,
      "outputs": [
        {
          "output_type": "stream",
          "text": [
            "E: Package 'python-software-properties' has no installation candidate\n",
            "Selecting previously unselected package google-drive-ocamlfuse.\n",
            "(Reading database ... 134443 files and directories currently installed.)\n",
            "Preparing to unpack .../google-drive-ocamlfuse_0.7.17-0ubuntu2~ubuntu18.04.1_amd64.deb ...\n",
            "Unpacking google-drive-ocamlfuse (0.7.17-0ubuntu2~ubuntu18.04.1) ...\n",
            "Setting up google-drive-ocamlfuse (0.7.17-0ubuntu2~ubuntu18.04.1) ...\n",
            "Processing triggers for man-db (2.8.3-2ubuntu0.1) ...\n",
            "Please, open the following URL in a web browser: https://accounts.google.com/o/oauth2/auth?client_id=32555940559.apps.googleusercontent.com&redirect_uri=urn%3Aietf%3Awg%3Aoauth%3A2.0%3Aoob&scope=https%3A%2F%2Fwww.googleapis.com%2Fauth%2Fdrive&response_type=code&access_type=offline&approval_prompt=force\n",
            "··········\n",
            "Please, open the following URL in a web browser: https://accounts.google.com/o/oauth2/auth?client_id=32555940559.apps.googleusercontent.com&redirect_uri=urn%3Aietf%3Awg%3Aoauth%3A2.0%3Aoob&scope=https%3A%2F%2Fwww.googleapis.com%2Fauth%2Fdrive&response_type=code&access_type=offline&approval_prompt=force\n",
            "Please enter the verification code: Access token retrieved correctly.\n"
          ],
          "name": "stdout"
        }
      ]
    },
    {
      "cell_type": "code",
      "metadata": {
        "id": "RdGVT_EnN0KX",
        "colab_type": "code",
        "colab": {}
      },
      "source": [
        "!mkdir -p drive\n",
        "!google-drive-ocamlfuse drive\n",
        "import os\n",
        "os.chdir(\"drive/colab\") "
      ],
      "execution_count": 0,
      "outputs": []
    },
    {
      "cell_type": "code",
      "metadata": {
        "id": "IKLvpoY6LMUe",
        "colab_type": "code",
        "colab": {}
      },
      "source": [
        "import re\n",
        "import pandas as pd\n",
        "import numpy as np\n",
        "import matplotlib.pyplot as plt\n",
        "import datetime\n",
        "import time\n",
        "import string\n",
        "import nltk\n",
        "from nltk.stem.porter import PorterStemmer\n",
        "import spacy\n",
        "from nltk.probability import FreqDist\n",
        "from nltk.corpus import stopwords\n",
        "from nltk.tokenize import TweetTokenizer\n",
        "from wordcloud import WordCloud"
      ],
      "execution_count": 0,
      "outputs": []
    },
    {
      "cell_type": "code",
      "metadata": {
        "id": "8AyGffhRLMlE",
        "colab_type": "code",
        "colab": {}
      },
      "source": [
        "df1 = pd.read_csv('hotel_happy_reviews.csv')\n",
        "df2 = pd.read_csv('hotel_not_happy_reviews.csv')"
      ],
      "execution_count": 0,
      "outputs": []
    },
    {
      "cell_type": "code",
      "metadata": {
        "id": "-sa3GnpYU-5J",
        "colab_type": "code",
        "outputId": "5fed4e3f-1faa-4fe0-9756-d755600a1731",
        "colab": {
          "base_uri": "https://localhost:8080/",
          "height": 345
        }
      },
      "source": [
        "###happy review for each hotel\n",
        "happy = df1['hotel_ID'].value_counts()\n",
        "nothappy = df2['hotel_ID'].value_counts()\n",
        "dd=pd.DataFrame({u'happy':happy, u'not happy':nothappy})\n",
        "plt.figure(figsize=(9,6))\n",
        "dd.plot(kind='bar', stacked=True)\n",
        "plt.title(u\"Reviews for each hotel\", fontsize = 15)\n",
        "plt.xlabel(u\"hotel ID\", fontsize = 15) \n",
        "plt.ylabel(u\"Number of reviews\", fontsize = 15) \n",
        "plt.xticks(fontsize = 15)\n",
        "plt.yticks(fontsize = 15)\n",
        "plt.show()\n",
        "plt.savefig('eda.png')"
      ],
      "execution_count": 66,
      "outputs": [
        {
          "output_type": "display_data",
          "data": {
            "text/plain": [
              "<Figure size 648x432 with 0 Axes>"
            ]
          },
          "metadata": {
            "tags": []
          }
        },
        {
          "output_type": "display_data",
          "data": {
            "image/png": "[encoded data removed]",
            "text/plain": [
              "<Figure size 432x288 with 1 Axes>"
            ]
          },
          "metadata": {
            "tags": []
          }
        },
        {
          "output_type": "display_data",
          "data": {
            "text/plain": [
              "<Figure size 432x288 with 0 Axes>"
            ]
          },
          "metadata": {
            "tags": []
          }
        }
      ]
    },
    {
      "cell_type": "code",
      "metadata": {
        "id": "IiSrZV0TAR-k",
        "colab_type": "code",
        "colab": {
          "base_uri": "https://localhost:8080/",
          "height": 68
        },
        "outputId": "7fba1225-1162-40da-e76d-8c898c2b8c9d"
      },
      "source": [
        "import nltk\n",
        "nltk.download('punkt')"
      ],
      "execution_count": 12,
      "outputs": [
        {
          "output_type": "stream",
          "text": [
            "[nltk_data] Downloading package punkt to /root/nltk_data...\n",
            "[nltk_data]   Unzipping tokenizers/punkt.zip.\n"
          ],
          "name": "stdout"
        },
        {
          "output_type": "execute_result",
          "data": {
            "text/plain": [
              "True"
            ]
          },
          "metadata": {
            "tags": []
          },
          "execution_count": 12
        }
      ]
    },
    {
      "cell_type": "markdown",
      "metadata": {
        "id": "c0kwpJqdVKdb",
        "colab_type": "text"
      },
      "source": [
        "## text clean"
      ]
    },
    {
      "cell_type": "code",
      "metadata": {
        "id": "g8KGx-KoLMys",
        "colab_type": "code",
        "colab": {}
      },
      "source": [
        "nlp = spacy.load(\"en_core_web_sm\")\n",
        "stemmer = PorterStemmer()\n",
        "stops = set(stopwords.words(\"english\"))\n",
        "english_punctuations = [',', '.', ':', ';', '?', '(', ')', '[', ']', '&', '!', '*', '@', '#', '$', '%']\n",
        "candidate_pos = ['NOUN', 'PROPN', 'VERB', 'ADJ', 'ADV']\n",
        "def text_clean(text):\n",
        "    text = re.sub(r'(?i)\\b((?:https?://|www\\d{0,3}[.]|[a-z0-9.\\-]+[.][a-z]{2,4}/)(?:[^\\s()<>]+|\\(([^\\s()<>]+|(\\([^\\s()<>]+\\)))*\\))+(?:\\(([^\\s()<>]+|(\\([^\\s()<>]+\\)))*\\)|[^\\s`!()\\[\\]{};:\\'\".,<>?«»“”‘’]))', '', text)\n",
        "    text = re.sub(r'@[\\w]*', '', text)\n",
        "    text = re.sub(r'#[\\w]*', '', text)\n",
        "    text = re.sub(r'\\xa0', '', text)\n",
        "    text = re.sub(r'://…', '', text)\n",
        "    text = text.replace('\\\\w+\\\\s','')\n",
        "    text = text.replace('\\n','')\n",
        "    text = text.replace('\\d','')\n",
        "    text = text.replace(r'[^a-zA-Z#]', '')\n",
        "    text = text.lower()\n",
        "    # doc=nlp(text)\n",
        "    # selected_words = []\n",
        "    # for token in doc:\n",
        "    #     if token.pos_ in candidate_pos and token.is_stop is False:\n",
        "    #         selected_words.append(token)\n",
        "    # text = ' '.join([str(x) for x in selected_words])   \n",
        "    text = ' '.join([w for w in nltk.word_tokenize(text) if len(w)>3])\n",
        "    text = ' '.join([stemmer.stem(w) for w in nltk.word_tokenize(text) ])\n",
        "    text= ' '.join([w for w in nltk.word_tokenize(text) if w not in english_punctuations])\n",
        "    text = ' '.join([w for w in nltk.word_tokenize(text) if w not in stops])\n",
        "\n",
        "    \n",
        "    return text"
      ],
      "execution_count": 0,
      "outputs": []
    },
    {
      "cell_type": "code",
      "metadata": {
        "id": "hraGLw9-VAjv",
        "colab_type": "code",
        "colab": {}
      },
      "source": [
        ""
      ],
      "execution_count": 0,
      "outputs": []
    },
    {
      "cell_type": "code",
      "metadata": {
        "id": "tw8kBYgLLNKd",
        "colab_type": "code",
        "colab": {}
      },
      "source": [
        "df1['clean_text'] = df1['Description'].apply(text_clean)"
      ],
      "execution_count": 0,
      "outputs": []
    },
    {
      "cell_type": "code",
      "metadata": {
        "id": "et2n6_PdLNtw",
        "colab_type": "code",
        "colab": {}
      },
      "source": [
        "df2['clean_text'] = df2['Description'].apply(text_clean)"
      ],
      "execution_count": 0,
      "outputs": []
    },
    {
      "cell_type": "code",
      "metadata": {
        "id": "7XVXiRcxUqc7",
        "colab_type": "code",
        "colab": {}
      },
      "source": [
        ""
      ],
      "execution_count": 0,
      "outputs": []
    },
    {
      "cell_type": "code",
      "metadata": {
        "id": "-k4soNDMLN51",
        "colab_type": "code",
        "colab": {}
      },
      "source": [
        "from gensim import corpora\n",
        "from gensim import models\n",
        "\n",
        "\n",
        "# build lda model\n",
        "\n",
        "raw = df['clean_text'].apply(lambda x:x.split())\n",
        "reviews_dict = corpora.Dictionary(raw)\n",
        "corpus = [reviews_dict.doc2bow(text) for text in raw] # Term Document Frequency\n",
        "tfidf = models.TfidfModel(corpus) #tfidf model \n",
        "reviews_corpus = tfidf[corpus]\n",
        "lda_review = models.LdaModel(reviews_corpus, id2word=reviews_dict, num_topics=20, passes=2)\n"
      ],
      "execution_count": 0,
      "outputs": []
    },
    {
      "cell_type": "code",
      "metadata": {
        "id": "PwjOUiZEPta_",
        "colab_type": "code",
        "colab": {}
      },
      "source": [
        "df = pd.concat([df1,df2], ignore_index= True)"
      ],
      "execution_count": 0,
      "outputs": []
    },
    {
      "cell_type": "code",
      "metadata": {
        "id": "Uo-hTMGRt4Sn",
        "colab_type": "code",
        "outputId": "6fa86f27-7f94-43d1-8afe-508d0805d25c",
        "colab": {
          "base_uri": "https://localhost:8080/",
          "height": 71
        }
      },
      "source": [
        "#Save coprus and dict to disk so that we don't have to repeat the get_topic_features methods\n",
        "reviews_dict.save('reviews_dict.dict')  # save dict to disk\n",
        "corpora.MmCorpus.serialize('reviews_corpus.mm', reviews_corpus)  #"
      ],
      "execution_count": 0,
      "outputs": [
        {
          "output_type": "stream",
          "text": [
            "/usr/local/lib/python3.6/dist-packages/smart_open/smart_open_lib.py:402: UserWarning: This function is deprecated, use smart_open.open instead. See the migration notes for details: https://github.com/RaRe-Technologies/smart_open/blob/master/README.rst#migrating-to-the-new-open-function\n",
            "  'See the migration notes for details: %s' % _MIGRATION_NOTES_URL\n"
          ],
          "name": "stderr"
        }
      ]
    },
    {
      "cell_type": "code",
      "metadata": {
        "id": "k2WeW508PuKi",
        "colab_type": "code",
        "outputId": "316963ad-b1ef-4d62-ad64-b36cddba181f",
        "colab": {
          "base_uri": "https://localhost:8080/",
          "height": 1000
        }
      },
      "source": [
        "\n",
        "import pprint\n",
        "pp = pprint.PrettyPrinter(depth=6)\n",
        "pp.pprint(lda_review.print_topics())"
      ],
      "execution_count": 48,
      "outputs": [
        {
          "output_type": "stream",
          "text": [
            "[(0,\n",
            "  '0.010*\"inn\" + 0.009*\"sketchi\" + 0.008*\"drug\" + 0.007*\"tenderloin\" + '\n",
            "  '0.005*\"swipe\" + 0.005*\"aloft\" + 0.005*\"crappi\" + 0.004*\"tripl\" + '\n",
            "  '0.004*\"no-fril\" + 0.003*\"regul\"'),\n",
            " (1,\n",
            "  '0.008*\"fail\" + 0.008*\"seriou\" + 0.008*\"wasnt\" + 0.007*\"owner\" + '\n",
            "  '0.007*\"forc\" + 0.006*\"damag\" + 0.006*\"depress\" + 0.006*\"slam\" + '\n",
            "  '0.006*\"blood\" + 0.006*\"stain\"'),\n",
            " (2,\n",
            "  '0.014*\"smelli\" + 0.014*\"bedbug\" + 0.007*\"yuck\" + 0.006*\"so-so\" + '\n",
            "  '0.006*\"thu\" + 0.005*\"radiat\" + 0.005*\"throw\" + 0.005*\"grow\" + '\n",
            "  '0.004*\"econom\" + 0.004*\"arm\"'),\n",
            " (3,\n",
            "  '0.021*\"disgust\" + 0.017*\"bug\" + 0.010*\"dirti\" + 0.007*\"ring\" + '\n",
            "  '0.007*\"quinta\" + 0.006*\"indic\" + 0.006*\"stain\" + 0.006*\"accur\" + '\n",
            "  '0.005*\"yeah\" + 0.005*\"sticki\"'),\n",
            " (4,\n",
            "  '0.018*\"stain\" + 0.011*\"musti\" + 0.010*\"peel\" + 0.008*\"odor\" + 0.008*\"gross\" '\n",
            "  '+ 0.007*\"repair\" + 0.006*\"dirt\" + 0.005*\"photo\" + 0.005*\"frill\" + '\n",
            "  '0.005*\"wors\"'),\n",
            " (5,\n",
            "  '0.014*\"attempt\" + 0.008*\"imposs\" + 0.007*\"indiffer\" + 0.007*\"loos\" + '\n",
            "  '0.007*\"creepi\" + 0.006*\"explan\" + 0.006*\"dirti\" + 0.006*\"stink\" + '\n",
            "  '0.005*\"crap\" + 0.005*\"stairwel\"'),\n",
            " (6,\n",
            "  '0.016*\"badli\" + 0.010*\"stolen\" + 0.010*\"pipe\" + 0.008*\"woken\" + '\n",
            "  '0.007*\"ventil\" + 0.006*\"embarrass\" + 0.006*\"tissu\" + 0.006*\"hung\" + '\n",
            "  '0.006*\"strike\" + 0.005*\"restuar\"'),\n",
            " (7,\n",
            "  '0.014*\"dingi\" + 0.008*\"lie\" + 0.008*\"nobodi\" + 0.007*\"rough\" + '\n",
            "  '0.006*\"bland\" + 0.006*\"overcharg\" + 0.005*\"dirti\" + 0.005*\"surfac\" + '\n",
            "  '0.004*\"agenc\" + 0.004*\"hvac\"'),\n",
            " (8,\n",
            "  '0.020*\"refund\" + 0.014*\"nasti\" + 0.013*\"poorli\" + 0.010*\"leak\" + '\n",
            "  '0.008*\"rust\" + 0.008*\"crash\" + 0.007*\"p.m.\" + 0.007*\"dirti\" + '\n",
            "  '0.005*\"stuffi\" + 0.005*\"ant\"'),\n",
            " (9,\n",
            "  '0.010*\"ignor\" + 0.007*\"reek\" + 0.006*\"mouth\" + 0.006*\"horror\" + '\n",
            "  '0.005*\"winter\" + 0.005*\"china\" + 0.005*\"sore\" + 0.005*\"disinterest\" + '\n",
            "  '0.004*\"presenc\" + 0.004*\"decis\"'),\n",
            " (10,\n",
            "  '0.016*\"crack\" + 0.014*\"unfriendli\" + 0.012*\"yell\" + 0.010*\"dusti\" + '\n",
            "  '0.010*\"unprofession\" + 0.008*\"invest\" + 0.008*\"vend\" + 0.007*\"alright\" + '\n",
            "  '0.005*\"donut\" + 0.005*\"dreari\"'),\n",
            " (11,\n",
            "  '0.011*\"unaccept\" + 0.008*\"satisfactori\" + 0.007*\"constant\" + 0.006*\"factor\" '\n",
            "  '+ 0.006*\"blew\" + 0.005*\"aircon\" + 0.005*\"alloc\" + 0.005*\"dull\" + '\n",
            "  '0.005*\"nickel\" + 0.005*\"walkway\"'),\n",
            " (12,\n",
            "  '0.011*\"ruin\" + 0.008*\"medic\" + 0.006*\"suffer\" + 0.006*\"prison\" + '\n",
            "  '0.006*\"dime\" + 0.006*\"lay\" + 0.006*\"unbear\" + 0.005*\"smoker\" + '\n",
            "  '0.005*\"minim\" + 0.005*\"justifi\"'),\n",
            " (13,\n",
            "  '0.009*\"refus\" + 0.007*\"shabbi\" + 0.007*\"non-smok\" + 0.007*\"receptionist\" + '\n",
            "  '0.006*\"heater\" + 0.006*\"claim\" + 0.006*\"polici\" + 0.005*\"broke\" + '\n",
            "  '0.005*\"scari\" + 0.005*\"cleaner\"'),\n",
            " (14,\n",
            "  '0.004*\"thi\" + 0.004*\"call\" + 0.004*\"night\" + 0.004*\"would\" + 0.003*\"could\" '\n",
            "  '+ 0.003*\"told\" + 0.003*\"check\" + 0.003*\"desk\" + 0.003*\"like\" + '\n",
            "  '0.003*\"servic\"'),\n",
            " (15,\n",
            "  '0.024*\"dirti\" + 0.009*\"aw\" + 0.008*\"dump\" + 0.008*\"properli\" + 0.006*\"mean\" '\n",
            "  '+ 0.006*\"unless\" + 0.006*\"cancel\" + 0.006*\"wors\" + 0.005*\"refurbish\" + '\n",
            "  '0.005*\"sheraton\"'),\n",
            " (16,\n",
            "  '0.010*\"unhelp\" + 0.009*\"worker\" + 0.008*\"blow\" + 0.007*\"grout\" + '\n",
            "  '0.006*\"frame\" + 0.006*\"minimum\" + 0.006*\"scratch\" + 0.006*\"rundown\" + '\n",
            "  '0.005*\"inconsist\" + 0.005*\"drab\"'),\n",
            " (17,\n",
            "  '0.008*\"bunch\" + 0.007*\"tape\" + 0.007*\"somebodi\" + 0.007*\"voic\" + '\n",
            "  '0.005*\"piti\" + 0.005*\"allergi\" + 0.005*\"cri\" + 0.005*\"neighbour\" + '\n",
            "  '0.004*\"chemic\" + 0.004*\"resembl\"'),\n",
            " (18,\n",
            "  '0.021*\"cigarett\" + 0.007*\"toler\" + 0.006*\"dread\" + 0.006*\"clue\" + '\n",
            "  '0.006*\"drape\" + 0.005*\"supervisor\" + 0.004*\"anybodi\" + 0.004*\"safer\" + '\n",
            "  '0.004*\"endur\" + 0.004*\"sheer\"'),\n",
            " (19,\n",
            "  '0.004*\"good\" + 0.004*\"veri\" + 0.004*\"park\" + 0.003*\"locat\" + 0.003*\"walk\" + '\n",
            "  '0.003*\"night\" + 0.003*\"nice\" + 0.003*\"thi\" + 0.003*\"breakfast\" + '\n",
            "  '0.003*\"clean\"')]\n"
          ],
          "name": "stdout"
        }
      ]
    },
    {
      "cell_type": "code",
      "metadata": {
        "id": "URsDgVZxPuZn",
        "colab_type": "code",
        "outputId": "1072d2c7-830e-44de-c0ed-e997f97b730a",
        "colab": {
          "base_uri": "https://localhost:8080/",
          "height": 51
        }
      },
      "source": [
        "\n",
        "# Metrics used to evaluate LDA models are Perplexity and Coherence Score\n",
        "from gensim.models import CoherenceModel\n",
        "# Compute Perplexity\n",
        "print('\\nPerplexity: ', lda_review.log_perplexity(reviews_corpus))  # a measure of how good the model is. lower the better."
      ],
      "execution_count": 49,
      "outputs": [
        {
          "output_type": "stream",
          "text": [
            "\n",
            "Perplexity:  -10.367063891094848\n"
          ],
          "name": "stdout"
        }
      ]
    },
    {
      "cell_type": "code",
      "metadata": {
        "id": "qhBy5s6lRWNI",
        "colab_type": "code",
        "outputId": "bb3c4ecc-6a55-4a1d-fd79-d59db40a4ca7",
        "colab": {
          "base_uri": "https://localhost:8080/",
          "height": 51
        }
      },
      "source": [
        "# # Compute Coherence Score\n",
        "coherence_model_lda = CoherenceModel(model=lda_review, texts=df['clean_text'].apply(lambda x:x.split()), dictionary=reviews_dict, coherence='c_v')\n",
        "coherence_lda = coherence_model_lda.get_coherence()\n",
        "print('\\nCoherence Score: ', coherence_lda)\n"
      ],
      "execution_count": 50,
      "outputs": [
        {
          "output_type": "stream",
          "text": [
            "\n",
            "Coherence Score:  0.4983904598754423\n"
          ],
          "name": "stdout"
        }
      ]
    },
    {
      "cell_type": "code",
      "metadata": {
        "id": "BEb9DsryRWbs",
        "colab_type": "code",
        "colab": {}
      },
      "source": [
        "def compute_coherence_values(dictionary, corpus, texts, limit, start, step):\n",
        "    \"\"\"\n",
        "    Compute c_v coherence for various number of topics\n",
        "\n",
        "    Parameters:\n",
        "    ----------\n",
        "    dictionary : Gensim dictionary\n",
        "    corpus : Gensim corpus\n",
        "    texts : List of input texts\n",
        "    limit : Max num of topics\n",
        "\n",
        "    Returns:\n",
        "    -------\n",
        "    model_list : List of LDA topic models\n",
        "    coherence_values : Coherence values corresponding to the LDA model with respective number of topics\n",
        "    \"\"\"\n",
        "    coherence_values = []\n",
        "    model_list = []\n",
        "    for num_topics in range(start, limit, step):\n",
        "        model = models.LdaModel(corpus=corpus, num_topics=num_topics, id2word=dictionary)\n",
        "        model_list.append(model)\n",
        "        coherencemodel = CoherenceModel(model=model, texts=texts, dictionary=dictionary, coherence='c_v')\n",
        "        coherence_values.append(coherencemodel.get_coherence())\n",
        "\n",
        "    return model_list, coherence_values"
      ],
      "execution_count": 0,
      "outputs": []
    },
    {
      "cell_type": "code",
      "metadata": {
        "id": "PUJ5seWDRWoV",
        "colab_type": "code",
        "colab": {}
      },
      "source": [
        "# grid search\n",
        "model_list, coherence_values = compute_coherence_values(reviews_dict, reviews_corpus, df['clean_text'].apply(lambda x:x.split()), 40, 2, 6)"
      ],
      "execution_count": 0,
      "outputs": []
    },
    {
      "cell_type": "code",
      "metadata": {
        "id": "xdAuw0FhRW25",
        "colab_type": "code",
        "outputId": "7ae8b8b1-aecb-4310-ae68-a0b3bc5d42b5",
        "colab": {
          "base_uri": "https://localhost:8080/",
          "height": 415
        }
      },
      "source": [
        "# Show graph\n",
        "limit=40; start=2; step=6;\n",
        "x = range(start, limit, step)\n",
        "plt.figure(figsize=(9,6))\n",
        "plt.plot(x, coherence_values, color = 'red', linewidth = '3')\n",
        "plt.xlabel(\"Num Topics\", fontsize = 15)\n",
        "plt.ylabel(\"Coherence score\", fontsize = 15)\n",
        "plt.legend([\"Coherence Score\"], fontsize = 15)\n",
        "plt.xticks(fontsize = 15)\n",
        "plt.yticks(fontsize = 15)\n",
        "plt.show()\n",
        "plt.savefig('best_coherence.png')"
      ],
      "execution_count": 68,
      "outputs": [
        {
          "output_type": "display_data",
          "data": {
            "image/png": "[encoded data removed]",
            "text/plain": [
              "<Figure size 648x432 with 1 Axes>"
            ]
          },
          "metadata": {
            "tags": []
          }
        },
        {
          "output_type": "display_data",
          "data": {
            "text/plain": [
              "<Figure size 432x288 with 0 Axes>"
            ]
          },
          "metadata": {
            "tags": []
          }
        }
      ]
    },
    {
      "cell_type": "code",
      "metadata": {
        "id": "fAidKmbsRXEL",
        "colab_type": "code",
        "outputId": "75ad7ecd-4ad8-4420-a90d-75e7ab523831",
        "colab": {
          "base_uri": "https://localhost:8080/",
          "height": 136
        }
      },
      "source": [
        "# Print the coherence scores\n",
        "for m, cv in zip(x, coherence_values):\n",
        "    print(\"Num Topics =\", m, \" has Coherence Value of\", round(cv, 4))"
      ],
      "execution_count": 69,
      "outputs": [
        {
          "output_type": "stream",
          "text": [
            "Num Topics = 2  has Coherence Value of 0.3044\n",
            "Num Topics = 8  has Coherence Value of 0.4577\n",
            "Num Topics = 14  has Coherence Value of 0.4954\n",
            "Num Topics = 20  has Coherence Value of 0.4953\n",
            "Num Topics = 26  has Coherence Value of 0.5176\n",
            "Num Topics = 32  has Coherence Value of 0.5314\n",
            "Num Topics = 38  has Coherence Value of 0.515\n"
          ],
          "name": "stdout"
        }
      ]
    },
    {
      "cell_type": "markdown",
      "metadata": {
        "id": "spZgQ1LmRXQ_",
        "colab_type": "text"
      },
      "source": [
        ""
      ]
    },
    {
      "cell_type": "code",
      "metadata": {
        "id": "Lin-BJCdRX5v",
        "colab_type": "code",
        "outputId": "a1bf48ef-15f2-40b8-834c-d9bc666cccf5",
        "colab": {
          "base_uri": "https://localhost:8080/",
          "height": 1000
        }
      },
      "source": [
        "#Get the model with the highest coherence scores \n",
        "optimal_model = model_list[5]\n",
        "#what are the words in tops of the optimal model\n",
        "model_topics = optimal_model.show_topics(formatted=False)\n",
        "pp.pprint(optimal_model.print_topics(num_words=10))"
      ],
      "execution_count": 70,
      "outputs": [
        {
          "output_type": "stream",
          "text": [
            "[(25,\n",
            "  '0.010*\"blame\" + 0.008*\"redeem\" + 0.007*\"bunk\" + 0.007*\"restuar\" + '\n",
            "  '0.006*\"crumb\" + 0.006*\"shoulder\" + 0.005*\"curb\" + 0.005*\"zone\" + '\n",
            "  '0.005*\"furthermor\" + 0.005*\"washroom\"'),\n",
            " (1,\n",
            "  '0.013*\"bland\" + 0.013*\"overcharg\" + 0.012*\"sticki\" + 0.011*\"toler\" + '\n",
            "  '0.010*\"clue\" + 0.008*\"crappi\" + 0.007*\"awoken\" + 0.007*\"bleach\" + '\n",
            "  '0.006*\"obtain\" + 0.006*\"fray\"'),\n",
            " (0,\n",
            "  '0.014*\"overbook\" + 0.012*\"tissu\" + 0.011*\"exist\" + 0.009*\"drab\" + '\n",
            "  '0.009*\"appli\" + 0.008*\"dial\" + 0.007*\"weekli\" + 0.006*\"roar\" + 0.006*\".and\" '\n",
            "  '+ 0.005*\"assort\"'),\n",
            " (4,\n",
            "  '0.012*\"worn\" + 0.008*\"outdat\" + 0.007*\"remodel\" + 0.007*\"non-smok\" + '\n",
            "  '0.007*\"wallpap\" + 0.007*\"pictur\" + 0.006*\"unfriendli\" + 0.006*\"advertis\" + '\n",
            "  '0.006*\"unabl\" + 0.005*\"account\"'),\n",
            " (15,\n",
            "  '0.020*\"yell\" + 0.017*\"rust\" + 0.015*\"quinta\" + 0.012*\"horn\" + '\n",
            "  '0.008*\"dreari\" + 0.006*\"spanish\" + 0.005*\"stiff\" + 0.005*\"cleanest\" + '\n",
            "  '0.005*\"purs\" + 0.004*\"shoot\"'),\n",
            " (2,\n",
            "  '0.025*\"mildew\" + 0.018*\"lie\" + 0.011*\"memphi\" + 0.010*\"bench\" + '\n",
            "  '0.008*\"graceland\" + 0.007*\"danc\" + 0.007*\"breath\" + 0.006*\"elvi\" + '\n",
            "  '0.006*\"moder\" + 0.005*\"hygien\"'),\n",
            " (9,\n",
            "  '0.010*\"dirt\" + 0.009*\"stolen\" + 0.009*\"ring\" + 0.008*\"cockroach\" + '\n",
            "  '0.008*\"forc\" + 0.008*\"shock\" + 0.006*\"dupont\" + 0.005*\"mous\" + '\n",
            "  '0.005*\"circl\" + 0.005*\"infest\"'),\n",
            " (12,\n",
            "  '0.017*\"poorli\" + 0.009*\"blow\" + 0.009*\"plain\" + 0.009*\"laugh\" + '\n",
            "  '0.009*\"messag\" + 0.008*\"thanksgiv\" + 0.008*\"awaken\" + 0.008*\"sketchi\" + '\n",
            "  '0.007*\"stink\" + 0.006*\"favor\"'),\n",
            " (24,\n",
            "  '0.013*\"hung\" + 0.013*\"downhil\" + 0.011*\"voic\" + 0.011*\"crap\" + '\n",
            "  '0.008*\"neighbour\" + 0.008*\"confort\" + 0.007*\"accomad\" + 0.006*\"astoria\" + '\n",
            "  '0.006*\"scuf\" + 0.005*\"primari\"'),\n",
            " (5,\n",
            "  '0.018*\"attempt\" + 0.018*\"drain\" + 0.014*\"bang\" + 0.011*\"nobodi\" + '\n",
            "  '0.008*\"frame\" + 0.008*\"proceed\" + 0.008*\"unhappi\" + 0.007*\"loudli\" + '\n",
            "  '0.006*\"so-so\" + 0.005*\"odor\"'),\n",
            " (14,\n",
            "  '0.013*\"scari\" + 0.011*\"repli\" + 0.010*\"grout\" + 0.009*\"edg\" + '\n",
            "  '0.008*\"potenti\" + 0.007*\"lose\" + 0.007*\"asid\" + 0.006*\"prevent\" + '\n",
            "  '0.006*\"ordinari\" + 0.005*\"correctli\"'),\n",
            " (22,\n",
            "  '0.014*\"hollywood\" + 0.009*\"radisson\" + 0.008*\"woken\" + 0.006*\"strip\" + '\n",
            "  '0.006*\"fame\" + 0.005*\"blvd\" + 0.005*\"angel\" + 0.005*\"wyndham\" + '\n",
            "  '0.005*\"motel\" + 0.005*\"unpack\"'),\n",
            " (11,\n",
            "  '0.005*\"dirti\" + 0.004*\"thi\" + 0.004*\"night\" + 0.003*\"veri\" + 0.003*\"would\" '\n",
            "  '+ 0.003*\"hotel\" + 0.003*\"good\" + 0.003*\"servic\" + 0.003*\"locat\" + '\n",
            "  '0.003*\"time\"'),\n",
            " (27,\n",
            "  '0.024*\"worst\" + 0.012*\"crown\" + 0.008*\"fail\" + 0.008*\"luckili\" + '\n",
            "  '0.008*\"wrote\" + 0.008*\"unless\" + 0.007*\"knock\" + 0.007*\"overpr\" + '\n",
            "  '0.006*\"agent\" + 0.005*\"odor\"'),\n",
            " (7,\n",
            "  '0.020*\"horribl\" + 0.017*\"disgust\" + 0.009*\"joke\" + 0.008*\"properli\" + '\n",
            "  '0.008*\"okay\" + 0.008*\"burn\" + 0.006*\"unaccept\" + 0.006*\"faucet\" + '\n",
            "  '0.006*\"heater\" + 0.006*\"overpr\"'),\n",
            " (18,\n",
            "  '0.013*\"clog\" + 0.011*\"somebodi\" + 0.008*\"cord\" + 0.008*\"cri\" + '\n",
            "  '0.008*\"sofitel\" + 0.007*\"ammen\" + 0.007*\"orbitz\" + 0.007*\"shout\" + '\n",
            "  '0.006*\"sand\" + 0.006*\"isnt\"'),\n",
            " (13,\n",
            "  '0.005*\"broken\" + 0.005*\"motel\" + 0.004*\"bug\" + 0.004*\"suppos\" + '\n",
            "  '0.003*\"uncomfort\" + 0.003*\"heat\" + 0.003*\"cancel\" + 0.003*\"say\" + '\n",
            "  '0.003*\"smoke\" + 0.003*\"replac\"'),\n",
            " (31,\n",
            "  '0.014*\"musti\" + 0.010*\"dump\" + 0.010*\"unless\" + 0.010*\"worst\" + '\n",
            "  '0.010*\"ruin\" + 0.009*\"claim\" + 0.009*\"dingi\" + 0.009*\"depress\" + '\n",
            "  '0.008*\"eventu\" + 0.008*\"stale\"'),\n",
            " (16,\n",
            "  '0.015*\"bedbug\" + 0.010*\"worker\" + 0.009*\"alley\" + 0.009*\"wasnt\" + '\n",
            "  '0.007*\"scratch\" + 0.007*\"unbear\" + 0.007*\"helpful\" + 0.006*\"januari\" + '\n",
            "  '0.006*\"accus\" + 0.006*\"mission\"'),\n",
            " (28,\n",
            "  '0.026*\"scream\" + 0.011*\"yeah\" + 0.009*\"insult\" + 0.008*\"parker\" + '\n",
            "  '0.008*\"allergi\" + 0.007*\"drill\" + 0.006*\"reaction\" + 0.006*\"neck\" + '\n",
            "  '0.006*\"pleasent\" + 0.006*\"cupboard\"')]\n"
          ],
          "name": "stdout"
        }
      ]
    },
    {
      "cell_type": "code",
      "metadata": {
        "id": "tuG2u-UrVuw7",
        "colab_type": "code",
        "outputId": "d62de6fc-a445-4a8b-d504-59598d257b44",
        "colab": {
          "base_uri": "https://localhost:8080/",
          "height": 71
        }
      },
      "source": [
        "# Save optimal model to disk so we don't need to rerun\n",
        "\n",
        "optimal_model.save('optimized_model')"
      ],
      "execution_count": 0,
      "outputs": [
        {
          "output_type": "stream",
          "text": [
            "/usr/local/lib/python3.6/dist-packages/smart_open/smart_open_lib.py:402: UserWarning: This function is deprecated, use smart_open.open instead. See the migration notes for details: https://github.com/RaRe-Technologies/smart_open/blob/master/README.rst#migrating-to-the-new-open-function\n",
            "  'See the migration notes for details: %s' % _MIGRATION_NOTES_URL\n"
          ],
          "name": "stderr"
        }
      ]
    },
    {
      "cell_type": "code",
      "metadata": {
        "id": "fDprjpV1WYwN",
        "colab_type": "code",
        "colab": {}
      },
      "source": [
        "def format_topics_sentences(ldamodel, corpus, texts):\n",
        "    # Init output\n",
        "    sent_topics_df = pd.DataFrame()\n",
        "\n",
        "    # Get main topic in each document\n",
        "    for i, row in enumerate(ldamodel[corpus]):\n",
        "        row = sorted(row, key=lambda x: (x[1]), reverse=True)\n",
        "        # Get the Dominant topic, Perc Contribution and Keywords for each document\n",
        "        for j, (topic_num, prop_topic) in enumerate(row):\n",
        "\n",
        "                wp = ldamodel.show_topic(topic_num) # shows the top 10 words for each topic\n",
        "                topic_keywords = \", \".join([word for word, prop in wp])\n",
        "                sent_topics_df = sent_topics_df.append(pd.Series([int(topic_num), round(prop_topic,4), topic_keywords]), ignore_index=True)\n",
        "\n",
        "    sent_topics_df.columns = ['Dominant_Topic', 'Perc_Contribution', 'Topic_Keywords']\n",
        "\n",
        "    # Add original text to the end of the output\n",
        "    contents = pd.Series(texts)\n",
        "    sent_topics_df = pd.concat([sent_topics_df, contents], axis=1)\n",
        "    return(sent_topics_df)\n",
        "\n",
        "\n",
        "df_topic_sents_keywords = format_topics_sentences(ldamodel=optimal_model, corpus=reviews_corpus, texts=df.clean_text.astype(str).apply(lambda x:x.split()))\n"
      ],
      "execution_count": 0,
      "outputs": []
    },
    {
      "cell_type": "code",
      "metadata": {
        "id": "2rkxcu92qYfA",
        "colab_type": "code",
        "outputId": "9d23d435-bcef-413d-c763-bd8847908511",
        "colab": {
          "base_uri": "https://localhost:8080/",
          "height": 359
        }
      },
      "source": [
        "# Format\n",
        "df_dominant_topic = df_topic_sents_keywords.reset_index()\n",
        "df_dominant_topic.columns = ['Document_No', 'Dominant_Topic', 'Topic_Perc_Contrib', 'Keywords', 'Text']\n",
        "\n",
        "# Show\n",
        "df_dominant_topic.head(10)"
      ],
      "execution_count": 72,
      "outputs": [
        {
          "output_type": "execute_result",
          "data": {
            "text/html": [
              "<div>\n",
              "<style scoped>\n",
              "    .dataframe tbody tr th:only-of-type {\n",
              "        vertical-align: middle;\n",
              "    }\n",
              "\n",
              "    .dataframe tbody tr th {\n",
              "        vertical-align: top;\n",
              "    }\n",
              "\n",
              "    .dataframe thead th {\n",
              "        text-align: right;\n",
              "    }\n",
              "</style>\n",
              "<table border=\"1\" class=\"dataframe\">\n",
              "  <thead>\n",
              "    <tr style=\"text-align: right;\">\n",
              "      <th></th>\n",
              "      <th>Document_No</th>\n",
              "      <th>Dominant_Topic</th>\n",
              "      <th>Topic_Perc_Contrib</th>\n",
              "      <th>Keywords</th>\n",
              "      <th>Text</th>\n",
              "    </tr>\n",
              "  </thead>\n",
              "  <tbody>\n",
              "    <tr>\n",
              "      <th>0</th>\n",
              "      <td>0</td>\n",
              "      <td>11.0</td>\n",
              "      <td>0.6397</td>\n",
              "      <td>dirti, thi, night, veri, would, hotel, good, s...</td>\n",
              "      <td>[stay, husband, son, alaska, cruis, love, hote...</td>\n",
              "    </tr>\n",
              "    <tr>\n",
              "      <th>1</th>\n",
              "      <td>1</td>\n",
              "      <td>29.0</td>\n",
              "      <td>0.2061</td>\n",
              "      <td>peel, woke, crash, reek, accur, file, threadba...</td>\n",
              "      <td>[room, veri, nice, clearli, updat, recent, cle...</td>\n",
              "    </tr>\n",
              "    <tr>\n",
              "      <th>2</th>\n",
              "      <td>2</td>\n",
              "      <td>26.0</td>\n",
              "      <td>0.4181</td>\n",
              "      <td>night, thi, would, could, good, bathroom, floo...</td>\n",
              "      <td>[wife, stay, thi, gloriou, citi, back, expens,...</td>\n",
              "    </tr>\n",
              "    <tr>\n",
              "      <th>3</th>\n",
              "      <td>3</td>\n",
              "      <td>11.0</td>\n",
              "      <td>0.2126</td>\n",
              "      <td>dirti, thi, night, veri, would, hotel, good, s...</td>\n",
              "      <td>[boyfriend, stay, fairmont, recent, trip, fran...</td>\n",
              "    </tr>\n",
              "    <tr>\n",
              "      <th>4</th>\n",
              "      <td>4</td>\n",
              "      <td>14.0</td>\n",
              "      <td>0.1938</td>\n",
              "      <td>scari, repli, grout, edg, potenti, lose, asid,...</td>\n",
              "      <td>[step, time, squar, nice, room, stay, night, g...</td>\n",
              "    </tr>\n",
              "    <tr>\n",
              "      <th>5</th>\n",
              "      <td>5</td>\n",
              "      <td>12.0</td>\n",
              "      <td>0.0420</td>\n",
              "      <td>poorli, blow, plain, laugh, messag, thanksgiv,...</td>\n",
              "      <td>[wife, kid, stay, valentin, weekend, realli, n...</td>\n",
              "    </tr>\n",
              "    <tr>\n",
              "      <th>6</th>\n",
              "      <td>6</td>\n",
              "      <td>11.0</td>\n",
              "      <td>0.3904</td>\n",
              "      <td>dirti, thi, night, veri, would, hotel, good, s...</td>\n",
              "      <td>[highli, recommend, hawthorn, terrac, afford, ...</td>\n",
              "    </tr>\n",
              "    <tr>\n",
              "      <th>7</th>\n",
              "      <td>7</td>\n",
              "      <td>26.0</td>\n",
              "      <td>0.3505</td>\n",
              "      <td>night, thi, would, could, good, bathroom, floo...</td>\n",
              "      <td>[found, hotel, clean, nice, locat, good, free,...</td>\n",
              "    </tr>\n",
              "    <tr>\n",
              "      <th>8</th>\n",
              "      <td>8</td>\n",
              "      <td>29.0</td>\n",
              "      <td>0.0949</td>\n",
              "      <td>peel, woke, crash, reek, accur, file, threadba...</td>\n",
              "      <td>[stay, elan, octob, like, much, return, trip, ...</td>\n",
              "    </tr>\n",
              "    <tr>\n",
              "      <th>9</th>\n",
              "      <td>9</td>\n",
              "      <td>4.0</td>\n",
              "      <td>0.0575</td>\n",
              "      <td>worn, outdat, remodel, non-smok, wallpap, pict...</td>\n",
              "      <td>[stay, night, realli, happi, locat, min, walk,...</td>\n",
              "    </tr>\n",
              "  </tbody>\n",
              "</table>\n",
              "</div>"
            ],
            "text/plain": [
              "   Document_No  ...                                               Text\n",
              "0            0  ...  [stay, husband, son, alaska, cruis, love, hote...\n",
              "1            1  ...  [room, veri, nice, clearli, updat, recent, cle...\n",
              "2            2  ...  [wife, stay, thi, gloriou, citi, back, expens,...\n",
              "3            3  ...  [boyfriend, stay, fairmont, recent, trip, fran...\n",
              "4            4  ...  [step, time, squar, nice, room, stay, night, g...\n",
              "5            5  ...  [wife, kid, stay, valentin, weekend, realli, n...\n",
              "6            6  ...  [highli, recommend, hawthorn, terrac, afford, ...\n",
              "7            7  ...  [found, hotel, clean, nice, locat, good, free,...\n",
              "8            8  ...  [stay, elan, octob, like, much, return, trip, ...\n",
              "9            9  ...  [stay, night, realli, happi, locat, min, walk,...\n",
              "\n",
              "[10 rows x 5 columns]"
            ]
          },
          "metadata": {
            "tags": []
          },
          "execution_count": 72
        }
      ]
    },
    {
      "cell_type": "code",
      "metadata": {
        "id": "cW1LTIx-XxS8",
        "colab_type": "code",
        "colab": {}
      },
      "source": [
        "# df_dominant_topic.shape\n",
        "#combined dominant topic with orginal dataframe \n",
        "reviews_dominant_topic =df.merge(df_dominant_topic, left_index=True, right_on='Document_No')\n",
        "reviews_dominant_topic=reviews_dominant_topic.drop(['User_ID', 'Text'], axis = 1)"
      ],
      "execution_count": 0,
      "outputs": []
    },
    {
      "cell_type": "code",
      "metadata": {
        "id": "kGezCMVChnpG",
        "colab_type": "code",
        "colab": {}
      },
      "source": [
        "#save output \n",
        "reviews_dominant_topic.to_csv(\"reviews_df_dominant-topics.csv\", index=False)"
      ],
      "execution_count": 0,
      "outputs": []
    },
    {
      "cell_type": "code",
      "metadata": {
        "id": "SZY-TLp8h2_t",
        "colab_type": "code",
        "outputId": "b936f703-d455-40f1-f6f0-1b3e34081c16",
        "colab": {
          "base_uri": "https://localhost:8080/",
          "height": 306
        }
      },
      "source": [
        "reviews_dominant_topic.head()"
      ],
      "execution_count": 77,
      "outputs": [
        {
          "output_type": "execute_result",
          "data": {
            "text/html": [
              "<div>\n",
              "<style scoped>\n",
              "    .dataframe tbody tr th:only-of-type {\n",
              "        vertical-align: middle;\n",
              "    }\n",
              "\n",
              "    .dataframe tbody tr th {\n",
              "        vertical-align: top;\n",
              "    }\n",
              "\n",
              "    .dataframe thead th {\n",
              "        text-align: right;\n",
              "    }\n",
              "</style>\n",
              "<table border=\"1\" class=\"dataframe\">\n",
              "  <thead>\n",
              "    <tr style=\"text-align: right;\">\n",
              "      <th></th>\n",
              "      <th>Description</th>\n",
              "      <th>Is_Response</th>\n",
              "      <th>hotel_ID</th>\n",
              "      <th>clean_text</th>\n",
              "      <th>Document_No</th>\n",
              "      <th>Dominant_Topic</th>\n",
              "      <th>Topic_Perc_Contrib</th>\n",
              "      <th>Keywords</th>\n",
              "    </tr>\n",
              "  </thead>\n",
              "  <tbody>\n",
              "    <tr>\n",
              "      <th>0</th>\n",
              "      <td>Stayed here with husband and sons on the way t...</td>\n",
              "      <td>happy</td>\n",
              "      <td>8</td>\n",
              "      <td>stay husband son alaska cruis love hotel great...</td>\n",
              "      <td>0</td>\n",
              "      <td>11.0</td>\n",
              "      <td>0.6397</td>\n",
              "      <td>dirti, thi, night, veri, would, hotel, good, s...</td>\n",
              "    </tr>\n",
              "    <tr>\n",
              "      <th>1</th>\n",
              "      <td>We had - rooms. One was very nice and clearly ...</td>\n",
              "      <td>happy</td>\n",
              "      <td>3</td>\n",
              "      <td>room veri nice clearli updat recent clean comf...</td>\n",
              "      <td>1</td>\n",
              "      <td>29.0</td>\n",
              "      <td>0.2061</td>\n",
              "      <td>peel, woke, crash, reek, accur, file, threadba...</td>\n",
              "    </tr>\n",
              "    <tr>\n",
              "      <th>2</th>\n",
              "      <td>My wife &amp; I stayed in this glorious city a whi...</td>\n",
              "      <td>happy</td>\n",
              "      <td>3</td>\n",
              "      <td>wife stay thi gloriou citi back expens found t...</td>\n",
              "      <td>2</td>\n",
              "      <td>26.0</td>\n",
              "      <td>0.4181</td>\n",
              "      <td>night, thi, would, could, good, bathroom, floo...</td>\n",
              "    </tr>\n",
              "    <tr>\n",
              "      <th>3</th>\n",
              "      <td>My boyfriend and I stayed at the Fairmont on a...</td>\n",
              "      <td>happy</td>\n",
              "      <td>7</td>\n",
              "      <td>boyfriend stay fairmont recent trip francisco ...</td>\n",
              "      <td>3</td>\n",
              "      <td>11.0</td>\n",
              "      <td>0.2126</td>\n",
              "      <td>dirti, thi, night, veri, would, hotel, good, s...</td>\n",
              "    </tr>\n",
              "    <tr>\n",
              "      <th>4</th>\n",
              "      <td>Steps off Times Square, nice rooms, stayed - n...</td>\n",
              "      <td>happy</td>\n",
              "      <td>3</td>\n",
              "      <td>step time squar nice room stay night great sho...</td>\n",
              "      <td>4</td>\n",
              "      <td>14.0</td>\n",
              "      <td>0.1938</td>\n",
              "      <td>scari, repli, grout, edg, potenti, lose, asid,...</td>\n",
              "    </tr>\n",
              "  </tbody>\n",
              "</table>\n",
              "</div>"
            ],
            "text/plain": [
              "                                         Description  ...                                           Keywords\n",
              "0  Stayed here with husband and sons on the way t...  ...  dirti, thi, night, veri, would, hotel, good, s...\n",
              "1  We had - rooms. One was very nice and clearly ...  ...  peel, woke, crash, reek, accur, file, threadba...\n",
              "2  My wife & I stayed in this glorious city a whi...  ...  night, thi, would, could, good, bathroom, floo...\n",
              "3  My boyfriend and I stayed at the Fairmont on a...  ...  dirti, thi, night, veri, would, hotel, good, s...\n",
              "4  Steps off Times Square, nice rooms, stayed - n...  ...  scari, repli, grout, edg, potenti, lose, asid,...\n",
              "\n",
              "[5 rows x 8 columns]"
            ]
          },
          "metadata": {
            "tags": []
          },
          "execution_count": 77
        }
      ]
    },
    {
      "cell_type": "code",
      "metadata": {
        "id": "bZnxz_4oh5dR",
        "colab_type": "code",
        "outputId": "62f2dc34-ee5c-485d-c22a-3971b06a9401",
        "colab": {
          "base_uri": "https://localhost:8080/",
          "height": 489
        }
      },
      "source": [
        "\n",
        "# # Number of Documents for Each Topic\n",
        "\n",
        "topic_counts = df_dominant_topic['Dominant_Topic'].value_counts()\n",
        "ax = topic_counts.plot(kind='bar', logy=True,fontsize=15, figsize=(10,7))\n",
        "ax.set_title(\"Log Dominant Topic Counts within Reviews\", fontsize=15)\n",
        "ax.set_ylabel(\"log(Document Counts per Dominant Topic)\", fontsize=15);\n",
        "ax.set_xlabel(\"Dominant Topic\", fontsize=15);\n",
        "plt.savefig('overall.png')\n"
      ],
      "execution_count": 93,
      "outputs": [
        {
          "output_type": "display_data",
          "data": {
            "image/png": "[encoded data removed]",
            "text/plain": [
              "<Figure size 720x504 with 1 Axes>"
            ]
          },
          "metadata": {
            "tags": []
          }
        }
      ]
    },
    {
      "cell_type": "code",
      "metadata": {
        "id": "gMufQkpKlNkp",
        "colab_type": "code",
        "outputId": "fcb1daf9-db2e-4c1b-cbe6-f2c0e09f35fb",
        "colab": {
          "base_uri": "https://localhost:8080/",
          "height": 489
        }
      },
      "source": [
        "# # Number of Documents for Hotel 1\n",
        "df_dominant_topic = pd.read_csv('reviews_df_dominant-topics.csv')\n",
        "topic_counts = df_dominant_topic['Dominant_Topic'].value_counts()\n",
        "ax = topic_counts.plot(kind='bar', logy=True,fontsize = 15, legend=True,figsize=(10,7))\n",
        "\n",
        "df_dominant_topic.Dominant_Topic[df_dominant_topic.hotel_ID ==1].value_counts().plot(kind='bar', color = 'red', width=.4,  logy=True)\n",
        "ax.legend([\"Overall reviews\", \"Hotel 1 reviews\"], fontsize =15);\n",
        "ax.set_title(\"Hotel 1: Log Dominant Topic Counts within Reviews\", fontsize=15)\n",
        "ax.set_ylabel(\"log(Document Counts per Dominant Topic)\", fontsize=15);\n",
        "ax.set_xlabel(\"Dominant Topic\", fontsize=15);\n",
        "plt.savefig('hotel1.png')"
      ],
      "execution_count": 92,
      "outputs": [
        {
          "output_type": "display_data",
          "data": {
            "image/png": "[encoded data removed]",
            "text/plain": [
              "<Figure size 720x504 with 1 Axes>"
            ]
          },
          "metadata": {
            "tags": []
          }
        }
      ]
    },
    {
      "cell_type": "code",
      "metadata": {
        "id": "-y-3ws1gwHou",
        "colab_type": "code",
        "colab": {}
      },
      "source": [
        ""
      ],
      "execution_count": 0,
      "outputs": []
    }
  ]
}